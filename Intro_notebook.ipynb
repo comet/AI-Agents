{
  "nbformat": 4,
  "nbformat_minor": 0,
  "metadata": {
    "colab": {
      "provenance": []
    },
    "kernelspec": {
      "name": "python3",
      "display_name": "Python 3"
    },
    "language_info": {
      "name": "python"
    }
  },
  "cells": [
    {
      "cell_type": "markdown",
      "source": [
        "## Preparing a notebook for auto prompting"
      ],
      "metadata": {
        "id": "BLpRjfexyDD3"
      }
    },
    {
      "cell_type": "markdown",
      "source": [
        "We will carry out the following tasks:\n",
        "- Install the relevant libraries\n",
        "- Set-up our API key to talk to the LLM engine\n",
        "- Make a simple request to the LLM and see the response"
      ],
      "metadata": {
        "id": "13eml9BBytD3"
      }
    },
    {
      "cell_type": "code",
      "source": [
        "# install relevant packages\n",
        "!pip install -q -U google-genai"
      ],
      "metadata": {
        "colab": {
          "base_uri": "https://localhost:8080/"
        },
        "id": "sxQiQRdfyPPR",
        "outputId": "019cb87a-475b-44c8-bc4e-bff4b292dd7a"
      },
      "execution_count": 3,
      "outputs": [
        {
          "output_type": "stream",
          "name": "stdout",
          "text": [
            "\u001b[?25l     \u001b[90m━━━━━━━━━━━━━━━━━━━━━━━━━━━━━━━━━━━━━━━━\u001b[0m \u001b[32m0.0/43.1 kB\u001b[0m \u001b[31m?\u001b[0m eta \u001b[36m-:--:--\u001b[0m\r\u001b[2K     \u001b[90m━━━━━━━━━━━━━━━━━━━━━━━━━━━━━━━━━━━━━━━━\u001b[0m \u001b[32m43.1/43.1 kB\u001b[0m \u001b[31m2.2 MB/s\u001b[0m eta \u001b[36m0:00:00\u001b[0m\n",
            "\u001b[?25h\u001b[?25l   \u001b[90m━━━━━━━━━━━━━━━━━━━━━━━━━━━━━━━━━━━━━━━━\u001b[0m \u001b[32m0.0/229.3 kB\u001b[0m \u001b[31m?\u001b[0m eta \u001b[36m-:--:--\u001b[0m\r\u001b[2K   \u001b[90m━━━━━━━━━━━━━━━━━━━━━━━━━━━━━━━━━━━━━━━━\u001b[0m \u001b[32m229.3/229.3 kB\u001b[0m \u001b[31m9.5 MB/s\u001b[0m eta \u001b[36m0:00:00\u001b[0m\n",
            "\u001b[?25h"
          ]
        }
      ]
    },
    {
      "cell_type": "code",
      "source": [
        "#import of the library\n",
        "from google import genai\n",
        "import json\n",
        "from datetime import datetime"
      ],
      "metadata": {
        "id": "nHJEfHcu0n6T"
      },
      "execution_count": 4,
      "outputs": []
    },
    {
      "cell_type": "code",
      "source": [
        "client = genai.Client(api_key=\"[Your API KEY HERE]\")"
      ],
      "metadata": {
        "id": "m2PuRY8P3K5c"
      },
      "execution_count": 6,
      "outputs": []
    },
    {
      "cell_type": "code",
      "source": [
        "#create the details of the request\n",
        "response = client.models.generate_content(\n",
        "    model=\"gemini-2.0-flash\",\n",
        "    contents=\"Explain how AI works in a few sentences\"\n",
        ")\n",
        "print(response.text)"
      ],
      "metadata": {
        "colab": {
          "base_uri": "https://localhost:8080/"
        },
        "id": "ZH7O3G0243FV",
        "outputId": "3e3c98d1-bec6-4bc3-9749-4fa4afa1ec28"
      },
      "execution_count": 9,
      "outputs": [
        {
          "output_type": "stream",
          "name": "stdout",
          "text": [
            "AI works by using algorithms and data to enable computers to learn, reason, and make decisions like humans. It involves feeding large datasets into these algorithms, which then identify patterns and relationships. Based on these learned patterns, the AI can then predict outcomes, classify data, or generate new content.\n",
            "\n"
          ]
        }
      ]
    },
    {
      "cell_type": "code",
      "source": [
        "response = client.models.generate_content(\n",
        "    model=\"gemini-2.0-flash\",\n",
        "    contents=\"Act as a immigration advisor.Explain the steps required to obtain a passport in Kenya.Include the relevant steps and documents required. Output this information as concise bullet points ordered from first to last.\"\n",
        ")\n",
        "print(response.text)"
      ],
      "metadata": {
        "colab": {
          "base_uri": "https://localhost:8080/"
        },
        "id": "XEc64fdZ7BWP",
        "outputId": "e2f063c9-cff4-436f-9819-eb3c1107601a"
      },
      "execution_count": 10,
      "outputs": [
        {
          "output_type": "stream",
          "name": "stdout",
          "text": [
            "Okay, here's a concise guide to getting a Kenyan passport, broken down into bullet points:\n",
            "\n",
            "**Kenyan Passport Application Steps:**\n",
            "\n",
            "*   **Determine Eligibility:** Ensure you are a Kenyan citizen by birth, registration, or naturalization.\n",
            "*   **Gather Required Documents (varies based on applicant type, but generally includes):**\n",
            "    *   **Original Birth Certificate (and a copy):** Essential for proving citizenship by birth.\n",
            "    *   **National ID Card (and a copy):** Proof of identity and residency.\n",
            "    *   **Passport Size Photos (2):** Recent, clear photos meeting specific guidelines (white background, specific size, etc.). Check the Immigration Department website for exact requirements.\n",
            "    *   **Marriage Certificate (if applicable):** If your name has changed due to marriage.\n",
            "    *   **Old Passport (if applicable):** For renewals.\n",
            "    *   **Recommender's ID Copy:** A copy of the ID card of your recommender (must be a Kenyan citizen). Some applications require a recommender.\n",
            "    *   **Guardians Consent (if applicant is under 18 years):**\n",
            "*   **Complete the Online Application:**\n",
            "    *   Visit the eCitizen portal ([https://www.ecitizen.go.ke/](https://www.ecitizen.go.ke/)).\n",
            "    *   Create an account or log in.\n",
            "    *   Find the \"Department of Immigration Services\" section.\n",
            "    *   Select the appropriate passport application type (e.g., new application, renewal, etc.).\n",
            "    *   Fill out the online application form accurately.\n",
            "*   **Pay the Application Fee:**\n",
            "    *   Follow the instructions on the eCitizen portal to pay the required fee. Payment methods usually include mobile money (M-Pesa) or credit/debit card.\n",
            "    *   Download and print the payment invoice/receipt.\n",
            "*   **Download and Print the Application Form and Appointment Slip:**\n",
            "    *   After completing the online application and payment, download the application form and appointment slip from the eCitizen portal.\n",
            "*   **Attend the Interview/Biometrics Appointment:**\n",
            "    *   Go to the Immigration Department office you selected during the online application on your scheduled appointment date.\n",
            "    *   Bring all original documents, copies, the printed application form, the appointment slip, and the payment receipt.\n",
            "    *   Undergo biometric data capture (fingerprints and photo) and an interview.\n",
            "*   **Passport Processing:**\n",
            "    *   The Immigration Department will process your application. Processing times can vary, so check the estimated processing time on the website.\n",
            "*   **Passport Collection:**\n",
            "    *   Once your passport is ready, you will receive a notification (usually via SMS).\n",
            "    *   Visit the Immigration Department office where you applied to collect your passport. Bring your original ID and any other documents specified in the notification.\n",
            "\n",
            "**Important Notes:**\n",
            "\n",
            "*   Always check the official Department of Immigration Services website ([https://immigration.go.ke/](https://immigration.go.ke/)) for the most up-to-date information, requirements, and fee structures.\n",
            "*   Ensure all documents are genuine and accurate.\n",
            "*   Be prepared for potential delays in processing.\n",
            "*   Avoid using unofficial channels or intermediaries, as they may be fraudulent.\n",
            "\n",
            "*This information is for guidance purposes only and does not constitute legal advice. Always refer to the official government sources for the most accurate and current information.*\n",
            "\n"
          ]
        }
      ]
    },
    {
      "cell_type": "code",
      "source": [],
      "metadata": {
        "id": "s7JI9Dlg994T"
      },
      "execution_count": null,
      "outputs": []
    }
  ]
}