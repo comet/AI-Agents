{
  "cells": [
    {
      "cell_type": "markdown",
      "metadata": {
        "id": "O1y3GUV7noH6"
      },
      "source": [
        "# Risk Control Review AI Agent - Starter Notebook\n",
        "\n",
        "This notebook guides you through building an AI agent that reviews risk controls, notes exceptions, and generates a summary report. Follow the steps to set up, code, and test the agent. Upload the provided `Risk_Controls.pdf` and `Audit_Logs.csv` files to start.\n",
        "\n",
        "## Objectives\n",
        "- Build a functional prototype using LangChain, FAISS, and an LLM.\n",
        "- Learn prompt engineering, retrieval-augmented generation (RAG), and exception detection.\n",
        "\n",
        "\n",
        "## Prerequisites\n",
        "- Google Colab account (free).\n",
        "- API key for Gemini,OpenAI(or xAI;.\n",
        "- Sample files: `Risk_Controls.pdf`, `Audit_Logs.csv`.\n",
        "\n",
        "## Setup Instructions\n",
        "1. Upload `Risk_Controls.pdf` and `Audit_Logs.csv` to Colab (use the file explorer on the left).\n",
        "2. Set your API key in the setup cell.\n",
        "3. Run cells in order. Follow comments for guidance.\n",
        "4. Debug issues with your instructor or refer to the Step 3 guide.\n"
      ]
    },
    {
      "cell_type": "markdown",
      "source": [
        "### Environment setup"
      ],
      "metadata": {
        "id": "2lkiYzo6oJ0T"
      }
    },
    {
      "cell_type": "code",
      "metadata": {
        "colab": {
          "base_uri": "https://localhost:8080/"
        },
        "id": "07v81UOcnoH7",
        "outputId": "47af6541-4016-4a91-c543-cfdbeae819ce"
      },
      "source": [
        "# Setup Environment\n",
        "!pip install langchain faiss-cpu PyPDF2 pandas -q\n",
        "!pip install langchain-google-genai pypdf langchain-community -q"
      ],
      "execution_count": 3,
      "outputs": [
        {
          "output_type": "stream",
          "name": "stdout",
          "text": [
            "\u001b[?25l   \u001b[90m━━━━━━━━━━━━━━━━━━━━━━━━━━━━━━━━━━━━━━━━\u001b[0m \u001b[32m0.0/49.4 kB\u001b[0m \u001b[31m?\u001b[0m eta \u001b[36m-:--:--\u001b[0m\r\u001b[2K   \u001b[90m━━━━━━━━━━━━━━━━━━━━━━━━━━━━━━━━━━━━━━━━\u001b[0m \u001b[32m49.4/49.4 kB\u001b[0m \u001b[31m2.7 MB/s\u001b[0m eta \u001b[36m0:00:00\u001b[0m\n",
            "\u001b[?25h\u001b[?25l   \u001b[90m━━━━━━━━━━━━━━━━━━━━━━━━━━━━━━━━━━━━━━━━\u001b[0m \u001b[32m0.0/1.4 MB\u001b[0m \u001b[31m?\u001b[0m eta \u001b[36m-:--:--\u001b[0m\r\u001b[2K   \u001b[91m━━━━━━━━━━━━━━━━━━━━━━━━━━━━━━━━━━━━━━━\u001b[0m\u001b[91m╸\u001b[0m \u001b[32m1.4/1.4 MB\u001b[0m \u001b[31m49.2 MB/s\u001b[0m eta \u001b[36m0:00:01\u001b[0m\r\u001b[2K   \u001b[90m━━━━━━━━━━━━━━━━━━━━━━━━━━━━━━━━━━━━━━━━\u001b[0m \u001b[32m1.4/1.4 MB\u001b[0m \u001b[31m27.8 MB/s\u001b[0m eta \u001b[36m0:00:00\u001b[0m\n",
            "\u001b[?25h\u001b[31mERROR: pip's dependency resolver does not currently take into account all the packages that are installed. This behaviour is the source of the following dependency conflicts.\n",
            "google-generativeai 0.8.5 requires google-ai-generativelanguage==0.6.15, but you have google-ai-generativelanguage 0.6.18 which is incompatible.\u001b[0m\u001b[31m\n",
            "\u001b[0m"
          ]
        }
      ]
    },
    {
      "cell_type": "code",
      "source": [
        "#another import\n",
        "!pip install -U langchain-community -q"
      ],
      "metadata": {
        "id": "R271VD7usava"
      },
      "execution_count": null,
      "outputs": []
    },
    {
      "cell_type": "markdown",
      "source": [
        "### Import into working environment"
      ],
      "metadata": {
        "id": "b67_IG-7oOze"
      }
    },
    {
      "cell_type": "code",
      "source": [
        "import os\n",
        "from langchain.document_loaders import PyPDFLoader\n",
        "from langchain.vectorstores import FAISS\n",
        "from langchain.prompts import PromptTemplate\n",
        "from langchain.chains import LLMChain\n",
        "from langchain_google_genai import ChatGoogleGenerativeAI\n",
        "from langchain_core.prompts import ChatPromptTemplate\n",
        "import pandas as pd"
      ],
      "metadata": {
        "id": "aqcz79VGoAu8"
      },
      "execution_count": 7,
      "outputs": []
    },
    {
      "cell_type": "code",
      "source": [
        "\n",
        "# Set your API key (replace with your own or instructor-provided key)\n",
        "os.environ[\"GOOGLE_API_KEY\"] = '[YOUR_APi_KEY]'"
      ],
      "metadata": {
        "id": "--D8P1CVrr4W"
      },
      "execution_count": 9,
      "outputs": []
    },
    {
      "cell_type": "code",
      "source": [
        "# Verify files are uploaded\n",
        "if not os.path.exists('Risk controls.pdf') or not os.path.exists('Audit_Logs.csv'):\n",
        "    raise FileNotFoundError('Please upload Risk_Controls.pdf and Audit_Logs.csv')\n",
        "print('Setup complete. Files found.')"
      ],
      "metadata": {
        "colab": {
          "base_uri": "https://localhost:8080/"
        },
        "id": "NE2oHiJXoH1N",
        "outputId": "c4326143-d227-4e06-e739-310dbca7dc69"
      },
      "execution_count": 11,
      "outputs": [
        {
          "output_type": "stream",
          "name": "stdout",
          "text": [
            "Setup complete. Files found.\n"
          ]
        }
      ]
    },
    {
      "cell_type": "code",
      "metadata": {
        "colab": {
          "base_uri": "https://localhost:8080/"
        },
        "id": "jElClZhUnoH8",
        "outputId": "0e2fd9e7-85bd-4046-f90b-6277bba337ac"
      },
      "source": [
        "# Extract Risk Controls with LLM\n",
        "# Initialize LLM and extract key controls from the PDF\n",
        "\n",
        "# Initialize model\n",
        "llm = ChatGoogleGenerativeAI(\n",
        "    model=\"gemini-2.0-flash\",\n",
        "    temperature=0,\n",
        ")\n",
        "#use prompt\n",
        "prompt = PromptTemplate(\n",
        "    input_variables=['text'],\n",
        "    template='Extract key risk control rules from this text in a concise list: {text}'\n",
        ")\n",
        "chain = LLMChain(llm=llm, prompt=prompt)\n",
        "\n",
        "# Load and process PDF\n",
        "loader = PyPDFLoader('Risk controls.pdf')\n",
        "docs = loader.load()\n",
        "controls = chain.run(text=docs[0].page_content)\n",
        "\n",
        "print('Extracted Controls:')\n",
        "print(controls)\n",
        "\n",
        "# TODO: Refine the prompt if output is unclear or incomplete"
      ],
      "execution_count": 16,
      "outputs": [
        {
          "output_type": "stream",
          "name": "stdout",
          "text": [
            "Extracted Controls:\n",
            "Here's a concise list of key risk control rules extracted from the text:\n",
            "\n",
            "*   **Transaction Verification:** 2FA required for transactions > $10,000; verification logged with timestamp and user ID.\n",
            "*   **User Access:** Only Managers or above can approve transactions > $5,000; access logs maintained.\n",
            "*   **Data Retention:** Transaction records retained for 7 years; early deletion requires Compliance Officer approval.\n",
            "*   **Suspicious Activity:** Transactions with 3+ retries in 24 hours flagged; manual audit required within 48 hours.\n"
          ]
        }
      ]
    },
    {
      "cell_type": "markdown",
      "source": [
        "## Use the pdf controls against the sample audit files"
      ],
      "metadata": {
        "id": "OyslLlAWtaet"
      }
    },
    {
      "cell_type": "code",
      "metadata": {
        "id": "_VrQH5RtnoH8"
      },
      "source": [
        "# Detect Exceptions\n",
        "# Compare audit logs against controls to flag exceptions\n",
        "\n",
        "#TODO: read from various sources\n",
        "\n",
        "df = pd.read_csv('Audit_Logs.csv')\n",
        "exceptions = []"
      ],
      "execution_count": 20,
      "outputs": []
    },
    {
      "cell_type": "code",
      "source": [
        "prompt = PromptTemplate(\n",
        "    input_variables=['entry', 'controls'],\n",
        "    template='Does this log entry violate any controls? Entry: {entry}. Controls: {controls}.Provide a brief explanation.'\n",
        ")\n",
        "chain = LLMChain(llm=llm, prompt=prompt)"
      ],
      "metadata": {
        "id": "6XL5FSYO3QYZ"
      },
      "execution_count": 23,
      "outputs": []
    },
    {
      "cell_type": "code",
      "source": [
        "for _, row in df.iterrows():\n",
        "    analysis = chain.run(entry=row.to_dict(), controls=controls)\n",
        "    if 'violate' in analysis.lower():\n",
        "        exceptions.append({'Transaction_ID': row['Transaction_ID'],\n",
        "                           'Reason': analysis})\n",
        "\n",
        "print('Exceptions Found:')\n",
        "for exc in exceptions:\n",
        "    print(f\"Transaction {exc['Transaction_ID']}: {exc['Reason']}\")\n",
        "\n",
        "# TODO: Add a rule-based check (e.g., Amount > 10000 and Verified_2FA == False)"
      ],
      "metadata": {
        "colab": {
          "base_uri": "https://localhost:8080/"
        },
        "id": "UBGcVuVA3LbT",
        "outputId": "24bccf03-c762-44e3-f734-d88c1d94c298"
      },
      "execution_count": 24,
      "outputs": [
        {
          "output_type": "stream",
          "name": "stdout",
          "text": [
            "Exceptions Found:\n",
            "Transaction TX001: Yes, the log entry violates the **Transaction Verification** control.\n",
            "\n",
            "**Explanation:**\n",
            "\n",
            "The transaction amount ($12,000) exceeds the $10,000 threshold requiring 2FA. However, the log entry shows `Verified_2FA: False`.  This indicates that the transaction was processed without the required 2FA verification, violating the control.\n",
            "Transaction TX002: The log entry **does not violate** any of the listed controls. Here's why:\n",
            "\n",
            "*   **Transaction Verification:** The transaction amount ($8000) is *not* greater than $10,000, so the 2FA requirement is not triggered. However, the log *does* show that 2FA was used (`Verified_2FA': True`), which is a positive sign.\n",
            "*   **User Access:** The transaction amount ($8000) *is* greater than $5,000, and the `Approver_Role` is 'Manager', which satisfies the requirement that only Managers or above can approve such transactions.\n",
            "*   **Data Retention:** This control is about the lifecycle of the data, not the transaction itself, so it's not relevant to this specific log entry.\n",
            "*   **Suspicious Activity:** The `Retry_Count` is 0, so this control is not triggered.\n",
            "Transaction TX003: Yes, this log entry violates the **User Access** control.\n",
            "\n",
            "**Explanation:**\n",
            "\n",
            "The transaction amount is $15,000, which is greater than $5,000. The `Approver_Role` is 'Analyst'. According to the User Access control, only Managers or above can approve transactions exceeding $5,000. An Analyst does not meet this requirement. Therefore, this transaction violates the User Access control.\n",
            "Transaction TX004: Yes, the log entry violates the **Suspicious Activity** control.\n",
            "\n",
            "**Explanation:**\n",
            "\n",
            "The log entry shows a `Retry_Count` of 4. The control states that transactions with 3 or more retries within 24 hours should be flagged and require a manual audit within 48 hours.  This transaction meets that criteria.\n",
            "Transaction TX005: No, this log entry does not violate any of the listed controls. Here's why:\n",
            "\n",
            "*   **Transaction Verification:** The transaction amount ($2000) is below the $10,000 threshold requiring 2FA. However, the log shows `Verified_2FA: True`, which is acceptable (it doesn't *violate* the control to have 2FA even when not strictly required).\n",
            "*   **User Access:** The transaction amount ($2000) is below the $5,000 threshold requiring Manager or above approval. The `Approver_Role` is 'Supervisor', which is likely a role with sufficient permissions.\n",
            "*   **Data Retention:** This control relates to the lifecycle of the data, not the transaction itself.  The log entry doesn't indicate any violation of retention policies.\n",
            "*   **Suspicious Activity:** The `Retry_Count` is 0, so this control is not triggered.\n",
            "\n",
            "Therefore, based on the information provided, the log entry appears compliant with the defined controls.\n"
          ]
        }
      ]
    },
    {
      "cell_type": "code",
      "metadata": {
        "colab": {
          "base_uri": "https://localhost:8080/"
        },
        "id": "WXrMkX0TnoH8",
        "outputId": "5e5d7349-1ca0-4aed-bf07-b154b0b27896"
      },
      "source": [
        "# Generate Summary Report\n",
        "# Create a structured report from exceptions\n",
        "\n",
        "report_prompt = PromptTemplate(\n",
        "    input_variables=['exceptions'],\n",
        "    template='Generate a report with: 1) Summary of findings, 2) List of exceptions, 3) Recommendations. Exceptions: {exceptions}'\n",
        ")\n",
        "report_chain = LLMChain(llm=llm, prompt=report_prompt)\n",
        "\n",
        "report = report_chain.run(exceptions=exceptions)\n",
        "with open('report.md', 'w') as f:\n",
        "    f.write(report)\n",
        "\n",
        "print('Generated Report:')\n",
        "print(report)\n",
        "\n",
        "# TODO: Check report for clarity; refine prompt if needed"
      ],
      "execution_count": 25,
      "outputs": [
        {
          "output_type": "stream",
          "name": "stdout",
          "text": [
            "Generated Report:\n",
            "## Transaction Log Audit Report\n",
            "\n",
            "**Date:** October 26, 2023 (Assumed - Please update with actual date)\n",
            "\n",
            "**1. Summary of Findings:**\n",
            "\n",
            "This report summarizes the findings of an audit performed on a set of transaction logs. The audit focused on verifying compliance with four key controls: Transaction Verification (2FA for transactions over $10,000), User Access (Manager or above approval for transactions over $5,000), Data Retention (not directly assessed in these exceptions), and Suspicious Activity (flagging transactions with 3 or more retries).\n",
            "\n",
            "Out of the five transactions reviewed, three (TX001, TX003, and TX004) were found to be in violation of at least one control. TX001 violated the Transaction Verification control due to a missing 2FA verification for a transaction exceeding the threshold. TX003 violated the User Access control because a transaction exceeding the approval threshold was approved by an Analyst instead of a Manager or above. TX004 violated the Suspicious Activity control due to an excessive number of retries.\n",
            "\n",
            "The remaining two transactions (TX002 and TX005) were found to be compliant with the defined controls.\n",
            "\n",
            "**2. List of Exceptions:**\n",
            "\n",
            "The following transactions were identified as exceptions to the defined controls:\n",
            "\n",
            "*   **Transaction ID: TX001**\n",
            "    *   **Reason:** Yes, the log entry violates the **Transaction Verification** control.\n",
            "        *   **Explanation:** The transaction amount ($12,000) exceeds the $10,000 threshold requiring 2FA. However, the log entry shows `Verified_2FA: False`. This indicates that the transaction was processed without the required 2FA verification, violating the control.\n",
            "\n",
            "*   **Transaction ID: TX003**\n",
            "    *   **Reason:** Yes, this log entry violates the **User Access** control.\n",
            "        *   **Explanation:** The transaction amount is $15,000, which is greater than $5,000. The `Approver_Role` is 'Analyst'. According to the User Access control, only Managers or above can approve transactions exceeding $5,000. An Analyst does not meet this requirement. Therefore, this transaction violates the User Access control.\n",
            "\n",
            "*   **Transaction ID: TX004**\n",
            "    *   **Reason:** Yes, the log entry violates the **Suspicious Activity** control.\n",
            "        *   **Explanation:** The log entry shows a `Retry_Count` of 4. The control states that transactions with 3 or more retries within 24 hours should be flagged and require a manual audit within 48 hours. This transaction meets that criteria.\n",
            "\n",
            "**3. Recommendations:**\n",
            "\n",
            "Based on the identified exceptions, the following recommendations are made:\n",
            "\n",
            "*   **Enforce 2FA for Transactions Over $10,000:** Implement stricter controls to ensure that 2FA is mandatory for all transactions exceeding the $10,000 threshold. This may involve system configuration changes to prevent transactions from being processed without proper 2FA verification.  Investigate why TX001 was able to bypass this control.\n",
            "\n",
            "*   **Strengthen User Access Controls:** Enforce the User Access control by restricting approval permissions based on role.  The system should prevent users with insufficient roles (e.g., Analysts) from approving transactions exceeding the defined threshold ($5,000).  Investigate how TX003 was approved by an Analyst.\n",
            "\n",
            "*   **Implement Suspicious Activity Monitoring and Alerting:** Ensure that the system automatically flags transactions with 3 or more retries within 24 hours.  Implement an alerting mechanism to notify relevant personnel (e.g., security team, audit team) of such flagged transactions for manual review within 48 hours, as per the control.  Ensure a process is in place to document the manual audit of TX004.\n",
            "\n",
            "*   **Review and Update Controls:** Periodically review and update the defined controls to ensure they remain relevant and effective in mitigating risks. Consider adding more granular controls based on transaction type or user behavior.\n",
            "\n",
            "*   **Training and Awareness:** Provide regular training to employees on the importance of adhering to security controls and the potential consequences of non-compliance.\n",
            "\n",
            "*   **Investigate Root Causes:** Conduct a thorough investigation into the root causes of the identified exceptions to prevent similar incidents from occurring in the future. This may involve reviewing system logs, interviewing relevant personnel, and analyzing process workflows.\n",
            "\n",
            "*   **Automate Control Monitoring:** Explore opportunities to automate the monitoring of these controls to improve efficiency and reduce the risk of human error. This could involve implementing automated scripts or using security information and event management (SIEM) tools.\n"
          ]
        }
      ]
    },
    {
      "cell_type": "markdown",
      "metadata": {
        "id": "kfOowUrcnoH9"
      },
      "source": [
        "## Next Steps\n",
        "- **Debugging**: Check for errors (e.g., missing controls, false positives).\n",
        "- **Customization**: Add a rule-based check in Cell 4 (e.g., flag high-amount unverified transactions).\n",
        "- **Homework**: Adapt the agent for your industry (e.g., new dataset or control).\n",
        "- **Resources**:\n",
        "  - LangChain docs: https://python.langchain.com/docs\n",
        "  - xAI API: https://x.ai/api\n",
        "  - Debugging tips: Ask your instructor for the Step 3 guide handout.\n",
        "\n",
        "## Troubleshooting\n",
        "- **API Key Error**: Ensure your key is valid and set correctly.\n",
        "- **File Not Found**: Verify `Risk_Controls.pdf` and `Audit_Logs.csv` are uploaded.\n",
        "- **LLM Output Issues**: Refine prompts for clarity; reduce temperature for consistency."
      ]
    },
    {
      "cell_type": "code",
      "metadata": {
        "colab": {
          "base_uri": "https://localhost:8080/"
        },
        "id": "0dba9c56",
        "outputId": "fccb3f8d-9829-4000-c6a5-23bba18e01c5"
      },
      "source": [
        "!pip install -U langchain-community -q"
      ],
      "execution_count": 5,
      "outputs": [
        {
          "output_type": "stream",
          "name": "stdout",
          "text": [
            "\u001b[?25l   \u001b[90m━━━━━━━━━━━━━━━━━━━━━━━━━━━━━━━━━━━━━━━━\u001b[0m \u001b[32m0.0/2.5 MB\u001b[0m \u001b[31m?\u001b[0m eta \u001b[36m-:--:--\u001b[0m\r\u001b[2K   \u001b[91m━━━━━━━━━━━━━━━━━━━━━━━━━━━\u001b[0m\u001b[91m╸\u001b[0m\u001b[90m━━━━━━━━━━━━\u001b[0m \u001b[32m1.7/2.5 MB\u001b[0m \u001b[31m52.3 MB/s\u001b[0m eta \u001b[36m0:00:01\u001b[0m\r\u001b[2K   \u001b[90m━━━━━━━━━━━━━━━━━━━━━━━━━━━━━━━━━━━━━━━━\u001b[0m \u001b[32m2.5/2.5 MB\u001b[0m \u001b[31m41.7 MB/s\u001b[0m eta \u001b[36m0:00:00\u001b[0m\n",
            "\u001b[?25h\u001b[?25l   \u001b[90m━━━━━━━━━━━━━━━━━━━━━━━━━━━━━━━━━━━━━━━━\u001b[0m \u001b[32m0.0/45.2 kB\u001b[0m \u001b[31m?\u001b[0m eta \u001b[36m-:--:--\u001b[0m\r\u001b[2K   \u001b[90m━━━━━━━━━━━━━━━━━━━━━━━━━━━━━━━━━━━━━━━━\u001b[0m \u001b[32m45.2/45.2 kB\u001b[0m \u001b[31m3.1 MB/s\u001b[0m eta \u001b[36m0:00:00\u001b[0m\n",
            "\u001b[?25h\u001b[?25l   \u001b[90m━━━━━━━━━━━━━━━━━━━━━━━━━━━━━━━━━━━━━━━━\u001b[0m \u001b[32m0.0/50.9 kB\u001b[0m \u001b[31m?\u001b[0m eta \u001b[36m-:--:--\u001b[0m\r\u001b[2K   \u001b[90m━━━━━━━━━━━━━━━━━━━━━━━━━━━━━━━━━━━━━━━━\u001b[0m \u001b[32m50.9/50.9 kB\u001b[0m \u001b[31m3.9 MB/s\u001b[0m eta \u001b[36m0:00:00\u001b[0m\n",
            "\u001b[?25h"
          ]
        }
      ]
    },
    {
      "cell_type": "code",
      "metadata": {
        "colab": {
          "base_uri": "https://localhost:8080/"
        },
        "id": "03265fd5",
        "outputId": "3b93b512-1a24-45d5-b85d-f751a4f77e27"
      },
      "source": [
        "!pip install pypdf -q"
      ],
      "execution_count": 14,
      "outputs": [
        {
          "output_type": "stream",
          "name": "stdout",
          "text": [
            "\u001b[?25l   \u001b[90m━━━━━━━━━━━━━━━━━━━━━━━━━━━━━━━━━━━━━━━━\u001b[0m \u001b[32m0.0/310.5 kB\u001b[0m \u001b[31m?\u001b[0m eta \u001b[36m-:--:--\u001b[0m\r\u001b[2K   \u001b[91m━━━━━━━━━━━━━━━━━━━━━━━━━━━━━━━━━━━━━━━\u001b[0m\u001b[91m╸\u001b[0m \u001b[32m307.2/310.5 kB\u001b[0m \u001b[31m11.3 MB/s\u001b[0m eta \u001b[36m0:00:01\u001b[0m\r\u001b[2K   \u001b[90m━━━━━━━━━━━━━━━━━━━━━━━━━━━━━━━━━━━━━━━━\u001b[0m \u001b[32m310.5/310.5 kB\u001b[0m \u001b[31m7.6 MB/s\u001b[0m eta \u001b[36m0:00:00\u001b[0m\n",
            "\u001b[?25h"
          ]
        }
      ]
    },
    {
      "cell_type": "code",
      "source": [],
      "metadata": {
        "id": "5LVOISNNx3Ca"
      },
      "execution_count": null,
      "outputs": []
    }
  ],
  "metadata": {
    "kernelspec": {
      "display_name": "Python 3",
      "language": "python",
      "name": "python3"
    },
    "language_info": {
      "codemirror_mode": {
        "name": "ipython",
        "version": 3
      },
      "file_extension": ".py",
      "mimetype": "text/x-python",
      "name": "python",
      "nbconvert_exporter": "python",
      "pygments_lexer": "ipython3",
      "version": "3.8.10"
    },
    "colab": {
      "provenance": []
    }
  },
  "nbformat": 4,
  "nbformat_minor": 0
}