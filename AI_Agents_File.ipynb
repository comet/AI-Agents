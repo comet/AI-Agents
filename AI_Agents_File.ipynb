{
  "nbformat": 4,
  "nbformat_minor": 0,
  "metadata": {
    "colab": {
      "provenance": []
    },
    "kernelspec": {
      "name": "python3",
      "display_name": "Python 3"
    },
    "language_info": {
      "name": "python"
    }
  },
  "cells": [
    {
      "cell_type": "code",
      "source": [
        "pip install -q -U google-genai"
      ],
      "metadata": {
        "colab": {
          "base_uri": "https://localhost:8080/"
        },
        "collapsed": true,
        "id": "10vEekDgUxDl",
        "outputId": "a174e363-923c-4925-bd92-f4805a4b6391"
      },
      "execution_count": 1,
      "outputs": [
        {
          "output_type": "stream",
          "name": "stdout",
          "text": [
            "\u001b[2K     \u001b[90m━━━━━━━━━━━━━━━━━━━━━━━━━━━━━━━━━━━━━━━━\u001b[0m \u001b[32m43.1/43.1 kB\u001b[0m \u001b[31m1.8 MB/s\u001b[0m eta \u001b[36m0:00:00\u001b[0m\n",
            "\u001b[2K   \u001b[90m━━━━━━━━━━━━━━━━━━━━━━━━━━━━━━━━━━━━━━━━\u001b[0m \u001b[32m229.3/229.3 kB\u001b[0m \u001b[31m5.1 MB/s\u001b[0m eta \u001b[36m0:00:00\u001b[0m\n",
            "\u001b[?25h"
          ]
        }
      ]
    },
    {
      "cell_type": "code",
      "execution_count": 2,
      "metadata": {
        "id": "rjlF5EjWUmyv"
      },
      "outputs": [],
      "source": [
        "from google import genai\n",
        "from google.genai import types\n",
        "import pathlib"
      ]
    },
    {
      "cell_type": "code",
      "source": [
        "client = genai.Client(\n",
        "    api_key=\"{YOUR API KEY HERE}\")"
      ],
      "metadata": {
        "id": "O5-X9wMnVFay"
      },
      "execution_count": 4,
      "outputs": []
    },
    {
      "cell_type": "code",
      "source": [
        "# Retrieve and encode the PDF byte\n",
        "filepath = pathlib.Path('Risk controls.pdf')\n",
        "\n",
        "prompt = \"Summarize this document\"\n",
        "response = client.models.generate_content(\n",
        "  model=\"gemini-2.5-flash\",\n",
        "  contents=[\n",
        "      types.Part.from_bytes(\n",
        "        data=filepath.read_bytes(),\n",
        "        mime_type='application/pdf',\n",
        "      ),\n",
        "      prompt])\n",
        "print(response.text)"
      ],
      "metadata": {
        "colab": {
          "base_uri": "https://localhost:8080/"
        },
        "id": "cKjlx0gJUvO3",
        "outputId": "8635d244-a2a8-449d-af1a-0e8efa175d75"
      },
      "execution_count": 5,
      "outputs": [
        {
          "output_type": "stream",
          "name": "stdout",
          "text": [
            "This document outlines the **Risk Control Policies** for **Acme Financial Services**, effective **August 1, 2025**, with the purpose of ensuring compliance with financial regulations and internal standards.\n",
            "\n",
            "It details four key controls:\n",
            "\n",
            "1.  **Transaction Verification:**\n",
            "    *   Transactions over $10,000 require two-factor authentication (2FA).\n",
            "    *   All verifications must be logged with a timestamp and user ID.\n",
            "2.  **User Access:**\n",
            "    *   Only personnel with a role of Manager or above can approve transactions exceeding $5,000.\n",
            "    *   Access logs must be maintained for all approvals.\n",
            "3.  **Data Retention:**\n",
            "    *   Transaction records must be kept for 7 years.\n",
            "    *   Any deletion of records before this period requires written approval from the Compliance Officer.\n",
            "4.  **Suspicious Activity:**\n",
            "    *   Transactions with 3 or more retries within 24 hours must be flagged for review.\n",
            "    *   Flagged transactions require a manual audit within 48 hours.\n"
          ]
        }
      ]
    },
    {
      "cell_type": "code",
      "source": [],
      "metadata": {
        "id": "FC1FAlvlVAfu"
      },
      "execution_count": null,
      "outputs": []
    }
  ]
}