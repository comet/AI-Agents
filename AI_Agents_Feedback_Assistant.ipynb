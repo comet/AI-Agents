{
  "nbformat": 4,
  "nbformat_minor": 0,
  "metadata": {
    "colab": {
      "provenance": []
    },
    "kernelspec": {
      "name": "python3",
      "display_name": "Python 3"
    },
    "language_info": {
      "name": "python"
    }
  },
  "cells": [
    {
      "cell_type": "markdown",
      "source": [
        "### Feedback processing assistant\n",
        "\n",
        "Uses a LLM model to obtain data from a spreadsheet(changeable) and then analyzes the data and shares a report on the various themes and patterns."
      ],
      "metadata": {
        "id": "1aAkOt4100Zs"
      }
    },
    {
      "cell_type": "markdown",
      "source": [
        "#### Install the LLM Library (if needed)"
      ],
      "metadata": {
        "id": "GIXvK-kQ2A3W"
      }
    },
    {
      "cell_type": "code",
      "source": [
        "pip install -q -U google-genai"
      ],
      "metadata": {
        "colab": {
          "base_uri": "https://localhost:8080/"
        },
        "id": "WF0rAL3F1FsI",
        "outputId": "d049230c-aab3-4d9b-885c-ec577eccb3e0"
      },
      "execution_count": null,
      "outputs": [
        {
          "output_type": "stream",
          "name": "stdout",
          "text": [
            "\u001b[?25l   \u001b[90m━━━━━━━━━━━━━━━━━━━━━━━━━━━━━━━━━━━━━━━━\u001b[0m \u001b[32m0.0/154.7 kB\u001b[0m \u001b[31m?\u001b[0m eta \u001b[36m-:--:--\u001b[0m\r\u001b[2K   \u001b[90m━━━━━━━━━━━━━━━━━━━━━━━━━━━━━━━━━━━━━━━━\u001b[0m \u001b[32m154.7/154.7 kB\u001b[0m \u001b[31m5.5 MB/s\u001b[0m eta \u001b[36m0:00:00\u001b[0m\n",
            "\u001b[?25h"
          ]
        }
      ]
    },
    {
      "cell_type": "markdown",
      "source": [
        "Store Your API Key Securely: It's best practice not to hardcode your API key directly in your notebook. You can use environment variables or Colab's secrets management. For simplicity in a learning environment, we can use a variable, but be cautious about sharing your notebook publicly with the key exposed.\n",
        "\n",
        "Make sure to replace \"YOUR_API_KEY\" with the actual key you obtained from the AI platform."
      ],
      "metadata": {
        "id": "grJOO5Vj20W1"
      }
    },
    {
      "cell_type": "code",
      "source": [
        "from google import genai\n",
        "import json\n",
        "from datetime import datetime\n",
        "\n",
        "client = genai.Client(api_key=\"\")\n"
      ],
      "metadata": {
        "id": "KC__zPLY2oM6"
      },
      "execution_count": null,
      "outputs": []
    },
    {
      "cell_type": "markdown",
      "source": [
        "### A simple request-Basic API Request:\n",
        " Let's try a simple request to the API to generate some text"
      ],
      "metadata": {
        "id": "bso8n-Dn4urg"
      }
    },
    {
      "cell_type": "code",
      "source": [
        "\n",
        "response = client.models.generate_content(\n",
        "    model=\"gemini-2.0-flash\",\n",
        "    contents=\"Explain how AI works in a few sentences\"\n",
        ")\n",
        "print(response.text)"
      ],
      "metadata": {
        "colab": {
          "base_uri": "https://localhost:8080/"
        },
        "id": "doxUVqqy3RGt",
        "outputId": "88e30044-9744-4350-a0ab-fd18323fd616",
        "collapsed": true
      },
      "execution_count": null,
      "outputs": [
        {
          "output_type": "stream",
          "name": "stdout",
          "text": [
            "AI works by training algorithms on vast amounts of data to identify patterns and make predictions or decisions. These algorithms, often based on machine learning, learn from the data without explicit programming for every possible scenario, allowing them to perform tasks like image recognition, natural language processing, and problem-solving. The ultimate goal is to create systems that can mimic or even surpass human cognitive abilities.\n",
            "\n"
          ]
        }
      ]
    },
    {
      "cell_type": "markdown",
      "source": [
        "### Test out a review and see the evaluation"
      ],
      "metadata": {
        "id": "E6YFon5pF-kO"
      }
    },
    {
      "cell_type": "code",
      "source": [
        "\n",
        "# Your analysis prompt\n",
        "prompt = \"\"\"Analyze the following customer review and\n",
        "identify the key themes discussed:\n",
        "\"The hotel had a fantastic location right by the beach,\n",
        "and the staff were incredibly friendly. However, the Wi-Fi\n",
        " was very slow and unreliable.\"\n",
        "\"\"\"\n",
        "\n",
        "# Generate the response\n",
        "response = client.models.generate_content(\n",
        "    model='gemini-2.0-flash',\n",
        "    contents=prompt,\n",
        ")\n",
        "\n",
        "# Use the response as a JSON string.\n",
        "print(response.text)"
      ],
      "metadata": {
        "id": "oiOuECZT5Auh",
        "colab": {
          "base_uri": "https://localhost:8080/"
        },
        "outputId": "0512e607-91a4-423a-9623-c59eed1c339f"
      },
      "execution_count": null,
      "outputs": [
        {
          "output_type": "stream",
          "name": "stdout",
          "text": [
            "Here's an analysis of the customer review, identifying the key themes:\n",
            "\n",
            "*   **Positive Themes:**\n",
            "\n",
            "    *   **Location:** The review highlights the hotel's \"fantastic location right by the beach\" as a significant positive.\n",
            "    *   **Staff Friendliness:** The reviewer praises the staff as being \"incredibly friendly,\" indicating good customer service.\n",
            "\n",
            "*   **Negative Themes:**\n",
            "\n",
            "    *   **Wi-Fi Quality:** The review mentions that the \"Wi-Fi was very slow and unreliable,\" which is a clear point of dissatisfaction.\n",
            "\n",
            "In summary, the key themes are:\n",
            "\n",
            "*   **Excellent Location**\n",
            "*   **Friendly Staff**\n",
            "*   **Poor Wi-Fi**\n",
            "\n"
          ]
        }
      ]
    },
    {
      "cell_type": "markdown",
      "source": [
        "## Use a modular approach to structure the process and get output"
      ],
      "metadata": {
        "id": "8_Pl6SMdLPyx"
      }
    },
    {
      "cell_type": "markdown",
      "source": [
        "### Functions to modularize the process"
      ],
      "metadata": {
        "id": "JUzv8vcTJFSE"
      }
    }
  ]
}
